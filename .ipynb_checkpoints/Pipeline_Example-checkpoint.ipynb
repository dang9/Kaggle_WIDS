{
 "cells": [
  {
   "cell_type": "markdown",
   "metadata": {},
   "source": [
    "https://stackoverflow.com/questions/54150352/how-to-output-pandas-object-from-sklearn-pipeline"
   ]
  },
  {
   "cell_type": "code",
   "execution_count": 4,
   "metadata": {},
   "outputs": [],
   "source": [
    "import pandas as pd\n",
    "import numpy as np"
   ]
  },
  {
   "cell_type": "code",
   "execution_count": 5,
   "metadata": {},
   "outputs": [
    {
     "name": "stdout",
     "output_type": "stream",
     "text": [
      "coefficients :  [[ 2.35558322  2.00582929 -0.76932764 -0.08412006  0.8534477   0.8534477\n",
      "  -0.24151912 -0.76932764  0.15739906]] \n",
      "\n",
      "columns after preprocessing : ['x1', 'x2', 'cat1_0', 'cat1_1', 'cat1_2', 'cat2_0', 'cat2_1', 'cat2_2', 'cat2_5'] \n",
      "\n",
      "################################################################################\n",
      "\n",
      " dataframe of rescaled features with custom colum names: \n",
      "\n",
      "          x1        x2  cat1_0  cat1_1  cat1_2  cat2_0  cat2_1  cat2_2  cat2_5\n",
      "0 -1.341641 -1.310556     1.0     0.0     0.0     0.0     0.0     1.0     0.0\n",
      "1 -0.447214 -0.611593     0.0     1.0     0.0     0.0     1.0     0.0     0.0\n",
      "2  0.447214  1.135815     0.0     1.0     0.0     0.0     0.0     0.0     1.0\n",
      "3  1.341641  0.786334     0.0     0.0     1.0     1.0     0.0     0.0     0.0\n",
      "################################################################################\n",
      "\n",
      " dataframe of ridge coefficients with custom colum names: \n",
      "\n",
      "          x1        x2    cat1_0   cat1_1    cat1_2    cat2_0    cat2_1  \\\n",
      "0  2.355583  2.005829 -0.769328 -0.08412  0.853448  0.853448 -0.241519   \n",
      "\n",
      "     cat2_2    cat2_5  \n",
      "0 -0.769328  0.157399  \n"
     ]
    }
   ],
   "source": [
    "from sklearn.pipeline import Pipeline\n",
    "from sklearn.impute import SimpleImputer\n",
    "from sklearn.preprocessing import OneHotEncoder, StandardScaler\n",
    "from sklearn.compose import ColumnTransformer\n",
    "from sklearn.linear_model import Ridge\n",
    "from sklearn.model_selection import KFold, cross_val_score, GridSearchCV\n",
    "\n",
    "# create aritificial data\n",
    "numeric_features_vals = pd.DataFrame({'x1': [1, 2, 3, 4], 'x2': [0.15, 0.25, 0.5, 0.45]})\n",
    "numeric_features = ['x1', 'x2']\n",
    "categorical_features_vals = pd.DataFrame({'cat1': [0, 1, 1, 2], 'cat2': [2, 1, 5, 0] })\n",
    "categorical_features = ['cat1', 'cat2']\n",
    "\n",
    "X_train = pd.concat([numeric_features_vals, categorical_features_vals], axis=1)\n",
    "X_test = pd.DataFrame({'x1':[2,3], 'x2':[0.2, 0.3], 'cat1':[0, 1], 'cat2':[2, 1]})\n",
    "y_train = pd.DataFrame({'labels': [10, 20, 30, 40]})\n",
    "\n",
    "# impute and standardize numeric data \n",
    "numeric_transformer = Pipeline([\n",
    "    ('impute', SimpleImputer(missing_values=np.nan, strategy=\"mean\")),\n",
    "    ('scale', StandardScaler())\n",
    "])\n",
    "\n",
    "# impute and encode dummy variables for categorical data\n",
    "categorical_transformer = Pipeline([\n",
    "    ('impute', SimpleImputer(missing_values=np.nan, strategy=\"most_frequent\")),\n",
    "    ('one_hot', OneHotEncoder(sparse=False, handle_unknown='ignore'))\n",
    "])\n",
    "\n",
    "preprocessor = ColumnTransformer(transformers=[\n",
    "    ('num', numeric_transformer, numeric_features),\n",
    "    ('cat', categorical_transformer, categorical_features)\n",
    "])\n",
    "\n",
    "clf = Pipeline([\n",
    "    ('transform', preprocessor),\n",
    "    ('ridge', Ridge())\n",
    "])\n",
    "\n",
    "\n",
    "kf = KFold(n_splits=2, shuffle=True, random_state=44)\n",
    "cross_val_score(clf, X_train, y_train, cv=kf).mean()\n",
    "\n",
    "param_grid = {\n",
    "    'ridge__alpha': [.001, .1, 1.0, 5, 10, 100]\n",
    "}\n",
    "\n",
    "gs = GridSearchCV(clf, param_grid, cv = kf)\n",
    "gs.fit(X_train, y_train)\n",
    "\n",
    "model = gs.best_estimator_\n",
    "predictions = model.fit(X_train, y_train).predict(X_test)\n",
    "print('coefficients : ',  model.named_steps['ridge'].coef_, '\\n')\n",
    "\n",
    "# create column names for categorical hot encoded data\n",
    "columns_names_to_map = list(np.copy(numeric_features))\n",
    "columns_names_to_map.extend('cat1_' + str(col) for col in pd.get_dummies(X_train['cat1']).columns)\n",
    "columns_names_to_map.extend('cat2_' + str(col) for col in pd.get_dummies(X_train['cat2']).columns)\n",
    "\n",
    "print('columns after preprocessing :', columns_names_to_map,  '\\n')\n",
    "print('#'*80)\n",
    "print( '\\n', 'dataframe of rescaled features with custom colum names: \\n\\n', pd.DataFrame({col:vals for vals, col in zip (preprocessor.fit_transform(X_train).T, columns_names_to_map)}))\n",
    "print('#'*80)\n",
    "print( '\\n', 'dataframe of ridge coefficients with custom colum names: \\n\\n', pd.DataFrame({col:vals for vals, col in zip (model.named_steps['ridge'].coef_.T, columns_names_to_map)}))"
   ]
  },
  {
   "cell_type": "code",
   "execution_count": 6,
   "metadata": {},
   "outputs": [
    {
     "data": {
      "text/plain": [
       "['x1',\n",
       " 'x2',\n",
       " 'cat1_0',\n",
       " 'cat1_1',\n",
       " 'cat1_2',\n",
       " 'cat2_0',\n",
       " 'cat2_1',\n",
       " 'cat2_2',\n",
       " 'cat2_5']"
      ]
     },
     "execution_count": 6,
     "metadata": {},
     "output_type": "execute_result"
    }
   ],
   "source": [
    "columns_names_to_map"
   ]
  },
  {
   "cell_type": "code",
   "execution_count": null,
   "metadata": {},
   "outputs": [],
   "source": []
  }
 ],
 "metadata": {
  "kernelspec": {
   "display_name": "Python 3",
   "language": "python",
   "name": "python3"
  },
  "language_info": {
   "codemirror_mode": {
    "name": "ipython",
    "version": 3
   },
   "file_extension": ".py",
   "mimetype": "text/x-python",
   "name": "python",
   "nbconvert_exporter": "python",
   "pygments_lexer": "ipython3",
   "version": "3.7.4"
  }
 },
 "nbformat": 4,
 "nbformat_minor": 4
}
